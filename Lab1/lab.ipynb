{
  "cells": [
    {
      "cell_type": "markdown",
      "id": "051c5239",
      "metadata": {
        "colab_type": "text",
        "id": "view-in-github"
      },
      "source": [
        "<a href=\"https://colab.research.google.com/github/labibkamran/Machine-Learning/blob/main/Lab1/lab.ipynb\" target=\"_parent\"><img src=\"https://colab.research.google.com/assets/colab-badge.svg\" alt=\"Open In Colab\"/></a>"
      ]
    },
    {
      "cell_type": "markdown",
      "id": "e395bb0a",
      "metadata": {
        "id": "e395bb0a"
      },
      "source": [
        "# Labib Kamran - 467183 - BSCS13D"
      ]
    },
    {
      "cell_type": "markdown",
      "id": "a94a61ab",
      "metadata": {
        "id": "a94a61ab"
      },
      "source": [
        "# Lab 1: Introduction to Machine Learning\n",
        "\n"
      ]
    },
    {
      "cell_type": "code",
      "execution_count": 8,
      "id": "a0cfcf80",
      "metadata": {
        "colab": {
          "base_uri": "https://localhost:8080/"
        },
        "id": "a0cfcf80",
        "outputId": "bd2dd5d9-2bb3-46ae-bbbc-3e37a2259309"
      },
      "outputs": [
        {
          "name": "stdout",
          "output_type": "stream",
          "text": [
            "Hello, Machine Learning World!\n"
          ]
        }
      ],
      "source": [
        "# First Python cell\n",
        "print(\"Hello, Machine Learning World!\")"
      ]
    },
    {
      "cell_type": "code",
      "execution_count": 9,
      "id": "c25cee6d",
      "metadata": {
        "colab": {
          "base_uri": "https://localhost:8080/"
        },
        "id": "c25cee6d",
        "outputId": "4a694850-d30c-4c33-f6d3-d5de2bc1b3a5"
      },
      "outputs": [
        {
          "name": "stdout",
          "output_type": "stream",
          "text": [
            "Drive already mounted at /content/drive; to attempt to forcibly remount, call drive.mount(\"/content/drive\", force_remount=True).\n"
          ]
        }
      ],
      "source": [
        "# Imports and Mounting\n",
        "from google.colab import drive\n",
        "drive.mount('/content/drive')\n",
        "\n",
        "import pandas as pd\n",
        "data = pd.read_csv(r'/content/sample_data/california_housing_train.csv')\n",
        "\n",
        "import numpy as np\n",
        "data[\"Extra Column\"] = np.random.rand(len(data)) # adding random numbers\n",
        "\n",
        "data.to_csv(r'/content/Sample-Superstore-Modified.csv')"
      ]
    },
    {
      "cell_type": "markdown",
      "id": "87d9ef05",
      "metadata": {
        "id": "87d9ef05"
      },
      "source": [
        "## <a id=\"why-numpy\"></a> Why NumPy?\n",
        "\n",
        "NumPy provides fast, vectorized array operations essential for ML workflows (preprocessing, linear algebra, batching). It’s the foundation for many ML libraries.\n",
        "\n",
        "### Example: BMI (vectorized)\n"
      ]
    },
    {
      "cell_type": "code",
      "execution_count": 10,
      "id": "1f6744a2",
      "metadata": {
        "colab": {
          "base_uri": "https://localhost:8080/"
        },
        "id": "1f6744a2",
        "outputId": "b5835b95-1eb6-4369-8ee3-3063836bcba2"
      },
      "outputs": [
        {
          "name": "stdout",
          "output_type": "stream",
          "text": [
            "BMI: [21.2244898  24.07407407 18.36547291]\n"
          ]
        }
      ],
      "source": [
        "import numpy as np\n",
        "heights = np.array([1.75, 1.80, 1.65])  # meters\n",
        "weights = np.array([65, 78, 50])       # kg\n",
        "bmi = weights / (heights ** 2)\n",
        "print(\"BMI:\", bmi)"
      ]
    },
    {
      "cell_type": "markdown",
      "id": "b3cd38bb",
      "metadata": {
        "id": "b3cd38bb"
      },
      "source": [
        "### Normalization example\n"
      ]
    },
    {
      "cell_type": "code",
      "execution_count": 11,
      "id": "b58b66d3",
      "metadata": {
        "colab": {
          "base_uri": "https://localhost:8080/"
        },
        "id": "b58b66d3",
        "outputId": "9acfd244-2b65-41b5-c385-08d26abb49c0"
      },
      "outputs": [
        {
          "name": "stdout",
          "output_type": "stream",
          "text": [
            "Z-score normalized: [-1.2070197  -0.74278135 -0.27854301  0.64993368  1.57841037]\n"
          ]
        }
      ],
      "source": [
        "data = np.array([4.0, 5.0, 6.0, 8.0, 10.0])\n",
        "normalized_data = (data - np.mean(data)) / np.std(data)\n",
        "print(\"Z-score normalized:\", normalized_data)"
      ]
    },
    {
      "cell_type": "markdown",
      "id": "47fcc1a5",
      "metadata": {
        "id": "47fcc1a5"
      },
      "source": [
        "### Matrix multiplication (Linear Regression prediction)\n"
      ]
    },
    {
      "cell_type": "code",
      "execution_count": 12,
      "id": "8d3ee414",
      "metadata": {
        "colab": {
          "base_uri": "https://localhost:8080/"
        },
        "id": "8d3ee414",
        "outputId": "9954cbdc-6ec7-4225-e16d-f2adac8d4ede"
      },
      "outputs": [
        {
          "name": "stdout",
          "output_type": "stream",
          "text": [
            "y_pred: [ 3.6  7.6 11.6]\n"
          ]
        }
      ],
      "source": [
        "X = np.array([[1, 2], [3, 4], [5, 6]])\n",
        "beta = np.array([0.5, 1.5])\n",
        "b = 0.1\n",
        "y_pred = np.dot(X, beta) + b\n",
        "print(\"y_pred:\", y_pred)"
      ]
    },
    {
      "cell_type": "markdown",
      "id": "0f3f9e88",
      "metadata": {
        "id": "0f3f9e88"
      },
      "source": [
        "## <a id=\"key-numpy-concepts\"></a> Key NumPy Concepts\n",
        "\n",
        "### Arrays vs Lists\n"
      ]
    },
    {
      "cell_type": "code",
      "execution_count": 13,
      "id": "86ff3c60",
      "metadata": {
        "colab": {
          "base_uri": "https://localhost:8080/"
        },
        "id": "86ff3c60",
        "outputId": "53741fa0-1861-4242-e367-fcdaed6cbe60"
      },
      "outputs": [
        {
          "name": "stdout",
          "output_type": "stream",
          "text": [
            "List addition: [5, 7, 9]\n",
            "NumPy array addition: [5 7 9]\n"
          ]
        }
      ],
      "source": [
        "# Arrays vs Lists\n",
        "# Element-wise sum with Python lists requires iteration\n",
        "list_a = [1, 2, 3]\n",
        "list_b = [4, 5, 6]\n",
        "result_list = [a + b for a, b in zip(list_a, list_b)]\n",
        "print(\"List addition:\", result_list)\n",
        "\n",
        "# With NumPy, operations are vectorized\n",
        "import numpy as np\n",
        "array_a = np.array([1, 2, 3])\n",
        "array_b = np.array([4, 5, 6])\n",
        "result_np = array_a + array_b\n",
        "print(\"NumPy array addition:\", result_np)"
      ]
    },
    {
      "cell_type": "code",
      "execution_count": 14,
      "id": "fe774716",
      "metadata": {
        "colab": {
          "base_uri": "https://localhost:8080/"
        },
        "id": "fe774716",
        "outputId": "672dea28-a401-4954-e7f6-2dc537c3fb47"
      },
      "outputs": [
        {
          "name": "stdout",
          "output_type": "stream",
          "text": [
            "From list: [1 2 3 4]\n",
            "Zeros (3x3):\n",
            " [[0. 0. 0.]\n",
            " [0. 0. 0.]\n",
            " [0. 0. 0.]]\n",
            "Ones (2x4):\n",
            " [[1. 1. 1. 1.]\n",
            " [1. 1. 1. 1.]]\n",
            "Random (2x3):\n",
            " [[0.4705466  0.15976708 0.91891765]\n",
            " [0.78227536 0.40037965 0.32503768]]\n",
            "a + b: [5 7 9]\n",
            "a * b: [ 4 10 18]\n",
            "Broadcasted A + B:\n",
            " [[2 4 6]\n",
            " [5 7 9]]\n",
            "Reshaped (2x3):\n",
            " [[1 2 3]\n",
            " [4 5 6]]\n",
            "Flattened: [1 2 3 4 5 6]\n"
          ]
        }
      ],
      "source": [
        "# Creating NumPy arrays\n",
        "print(\"From list:\", np.array([1, 2, 3, 4]))\n",
        "print(\"Zeros (3x3):\\n\", np.zeros((3, 3)))\n",
        "print(\"Ones (2x4):\\n\", np.ones((2, 4)))\n",
        "\n",
        "# Random values (2x3) between 0 and 1\n",
        "rand_mat = np.random.random((2, 3))\n",
        "print(\"Random (2x3):\\n\", rand_mat)\n",
        "\n",
        "# Element-wise operations\n",
        "a = np.array([1, 2, 3])\n",
        "b = np.array([4, 5, 6])\n",
        "print(\"a + b:\", a + b)\n",
        "print(\"a * b:\", a * b)\n",
        "\n",
        "# Broadcasting example\n",
        "A = np.array([[1, 2, 3], [4, 5, 6]])\n",
        "B = np.array([1, 2, 3])\n",
        "print(\"Broadcasted A + B:\\n\", A + B)\n",
        "\n",
        "# Reshape and flatten\n",
        "c = np.array([1, 2, 3, 4, 5, 6])\n",
        "c_reshaped = c.reshape(2, 3)\n",
        "print(\"Reshaped (2x3):\\n\", c_reshaped)\n",
        "print(\"Flattened:\", c_reshaped.flatten())"
      ]
    },
    {
      "cell_type": "markdown",
      "id": "7b5acae9",
      "metadata": {
        "id": "7b5acae9"
      },
      "source": [
        "## <a id=\"hands-on-coding\"></a> Hands-On Coding\n",
        "\n",
        "### Creating and Manipulating Arrays\n"
      ]
    },
    {
      "cell_type": "code",
      "execution_count": 15,
      "id": "6a6dc89d",
      "metadata": {
        "colab": {
          "base_uri": "https://localhost:8080/"
        },
        "id": "6a6dc89d",
        "outputId": "3802a3a8-ab95-48f4-87c9-bd26cff86b65"
      },
      "outputs": [
        {
          "name": "stdout",
          "output_type": "stream",
          "text": [
            "1D: [10 20 30 40]\n",
            "2D:\n",
            " [[1 2 3]\n",
            " [4 5 6]]\n",
            "1D + 5: [15 25 35 45]\n",
            "Random (3x3):\n",
            " [[0.5063342  0.08165597 0.63955002]\n",
            " [0.11842205 0.78540649 0.49251904]\n",
            " [0.30638387 0.95368432 0.60116113]]\n",
            "Scaled (*100):\n",
            " [[50.63342022  8.16559665 63.95500228]\n",
            " [11.84220481 78.54064881 49.25190393]\n",
            " [30.63838678 95.36843187 60.11611334]]\n",
            "Reshaped (2x3):\n",
            " [[1 2 3]\n",
            " [4 5 6]]\n",
            "Sliced (first 2 rows/cols):\n",
            " [[1 2]\n",
            " [4 5]]\n"
          ]
        }
      ],
      "source": [
        "# 1D and 2D arrays\n",
        "import numpy as np\n",
        "array_1d = np.array([10, 20, 30, 40])\n",
        "print(\"1D:\", array_1d)\n",
        "\n",
        "array_2d = np.array([[1, 2, 3], [4, 5, 6]])\n",
        "print(\"2D:\\n\", array_2d)\n",
        "\n",
        "# Basic operations\n",
        "array_sum = array_1d + 5\n",
        "print(\"1D + 5:\", array_sum)\n",
        "\n",
        "# Random matrix and scaling\n",
        "random_matrix = np.random.random((3, 3))\n",
        "print(\"Random (3x3):\\n\", random_matrix)\n",
        "random_matrix_scaled = random_matrix * 100\n",
        "print(\"Scaled (*100):\\n\", random_matrix_scaled)\n",
        "\n",
        "# Reshape and slicing\n",
        "reshaped_array = np.array([1, 2, 3, 4, 5, 6]).reshape(2, 3)\n",
        "print(\"Reshaped (2x3):\\n\", reshaped_array)\n",
        "\n",
        "sliced_array = reshaped_array[:2, :2]\n",
        "print(\"Sliced (first 2 rows/cols):\\n\", sliced_array)"
      ]
    },
    {
      "cell_type": "markdown",
      "id": "eb50f10d",
      "metadata": {
        "id": "eb50f10d"
      },
      "source": [
        "## <a id=\"mini-challenge\"></a> Mini Challenge\n",
        "\n",
        "Write a function that takes an array of any shape and returns a min-max normalized version (values in [0, 1]). Then test it with a random array. Finally, explain why normalization is critical in ML preprocessing.\n"
      ]
    },
    {
      "cell_type": "code",
      "execution_count": 16,
      "id": "15479948",
      "metadata": {
        "colab": {
          "base_uri": "https://localhost:8080/"
        },
        "id": "15479948",
        "outputId": "9a8ede80-fcf6-447a-ddf9-c098c34c3ec7"
      },
      "outputs": [
        {
          "name": "stdout",
          "output_type": "stream",
          "text": [
            "Original:\n",
            " [[ 0.49671415 -0.1382643   0.64768854  1.52302986]\n",
            " [-0.23415337 -0.23413696  1.57921282  0.76743473]\n",
            " [-0.46947439  0.54256004 -0.46341769 -0.46572975]]\n",
            "Min-max normalized (global):\n",
            " [[0.4716135  0.16166943 0.54530673 0.97257612]\n",
            " [0.1148643  0.11487231 1.         0.60375694]\n",
            " [0.         0.49399168 0.00295638 0.00182782]]\n",
            "Min-max normalized (per-row):\n",
            " [[3.82219158e-01 0.00000000e+00 4.73096733e-01 1.00000000e+00]\n",
            " [0.00000000e+00 9.05375552e-06 1.00000000e+00 5.52336373e-01]\n",
            " [0.00000000e+00 1.00000000e+00 5.98467102e-03 3.70010373e-03]]\n"
          ]
        }
      ],
      "source": [
        "import numpy as np\n",
        "\n",
        "def min_max_normalize(x: np.ndarray, axis=None, keepdims=False):\n",
        "    \"\"\"\n",
        "    Min-max normalize the array to [0, 1].\n",
        "    - axis=None normalizes across the whole array (default).\n",
        "    - axis can be an int/tuple to normalize along axes.\n",
        "    - keepdims keeps reduced dimensions if True.\n",
        "    Handles constant arrays by returning zeros.\n",
        "    \"\"\"\n",
        "    x = np.asarray(x)\n",
        "    x_min = np.min(x, axis=axis, keepdims=True)\n",
        "    x_max = np.max(x, axis=axis, keepdims=True)\n",
        "    denom = x_max - x_min\n",
        "    # Avoid division by zero for constant arrays\n",
        "    denom = np.where(denom == 0, 1, denom)\n",
        "    normalized = (x - x_min) / denom\n",
        "    if not keepdims and axis is not None:\n",
        "        # Squeeze reduced dims if requested\n",
        "        normalized = np.squeeze(normalized, axis=axis)\n",
        "    return normalized\n",
        "\n",
        "# Test with random array\n",
        "np.random.seed(42)\n",
        "test = np.random.randn(3, 4)\n",
        "print(\"Original:\\n\", test)\n",
        "print(\"Min-max normalized (global):\\n\", min_max_normalize(test))\n",
        "print(\"Min-max normalized (per-row):\\n\", min_max_normalize(test, axis=1, keepdims=True))"
      ]
    },
    {
      "cell_type": "markdown",
      "id": "8762f3b7",
      "metadata": {
        "id": "8762f3b7"
      },
      "source": [
        "> Why normalization is critical in ML preprocessing:\n",
        ">\n",
        "> - Stabilizes and speeds up training by keeping features on similar scales (important for gradient descent).\n",
        "> - Prevents features with large scales from dominating distance-based models (kNN, clustering) and regularization.\n",
        "> - Improves numeric stability for matrix operations.\n",
        "> - Consistent scaling is essential for fair model comparison and reproducibility.\n"
      ]
    }
  ],
  "metadata": {
    "accelerator": "GPU",
    "colab": {
      "gpuType": "T4",
      "include_colab_link": true,
      "provenance": []
    },
    "kernelspec": {
      "display_name": "machinelearning (3.12.3)",
      "language": "python",
      "name": "python3"
    },
    "language_info": {
      "name": "python",
      "version": "3.12.3"
    }
  },
  "nbformat": 4,
  "nbformat_minor": 5
}
