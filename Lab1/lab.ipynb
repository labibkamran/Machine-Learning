{
 "cells": [
  {
   "cell_type": "markdown",
   "id": "e395bb0a",
   "metadata": {},
   "source": [
    "# Labib Kamran - 467183 - BSCS13D"
   ]
  },
  {
   "cell_type": "markdown",
   "id": "a94a61ab",
   "metadata": {},
   "source": [
    "# Lab 1: Introduction to Machine Learning\n",
    "\n"
   ]
  },
  {
   "cell_type": "markdown",
   "id": "69f96da8",
   "metadata": {},
   "source": [
    "## Exploring Colab Interface\n",
    "\n",
    "\n",
    "### Using Google Drive with Colab\n",
    "Mount Drive to access datasets and save outputs directly:\n"
   ]
  },
  {
   "cell_type": "code",
   "execution_count": null,
   "id": "a79d855d",
   "metadata": {},
   "outputs": [],
   "source": [
    "# Mount Google Drive (Colab only)\n",
    "try:\n",
    "    from google.colab import drive\n",
    "    drive.mount('/content/drive')\n",
    "    IN_COLAB = True\n",
    "except Exception:\n",
    "    print(\"Not running in Google Colab; skipping Drive mount.\")\n",
    "    IN_COLAB = False"
   ]
  },
  {
   "cell_type": "code",
   "execution_count": null,
   "id": "9777defe",
   "metadata": {},
   "outputs": [],
   "source": [
    "# Example: read/write CSV via pandas when in Colab\n",
    "import numpy as np\n",
    "\n",
    "try:\n",
    "    import pandas as pd\n",
    "except ImportError:\n",
    "    pd = None\n",
    "    print(\"pandas not installed; skipping CSV demo.\")\n",
    "\n",
    "if IN_COLAB and pd is not None:\n",
    "    # Create a small DataFrame and save to Drive\n",
    "    df = pd.DataFrame({\"a\": [1, 2, 3], \"b\": [4, 5, 6]})\n",
    "    out_path = \"/content/drive/MyDrive/datasets/output_data.csv\"\n",
    "    try:\n",
    "        df.to_csv(out_path, index=False)\n",
    "        print(f\"Saved to {out_path}\")\n",
    "        # Read it back\n",
    "        df2 = pd.read_csv(out_path)\n",
    "        print(\"Loaded from Drive:\\n\", df2.head())\n",
    "    except Exception as e:\n",
    "        print(\"Drive path may not exist. Create MyDrive/datasets/ folder first.\")\n",
    "        print(\"Error:\", e)\n",
    "else:\n",
    "    print(\"Not in Colab with pandas; skipping Drive CSV example.\")"
   ]
  },
  {
   "cell_type": "code",
   "execution_count": 5,
   "id": "a0cfcf80",
   "metadata": {},
   "outputs": [
    {
     "name": "stdout",
     "output_type": "stream",
     "text": [
      "Hello, Machine Learning World!\n"
     ]
    }
   ],
   "source": [
    "# First Python cell\n",
    "print(\"Hello, Machine Learning World!\")"
   ]
  },
  {
   "cell_type": "markdown",
   "id": "87d9ef05",
   "metadata": {},
   "source": [
    "## <a id=\"why-numpy\"></a> Why NumPy?\n",
    "\n",
    "NumPy provides fast, vectorized array operations essential for ML workflows (preprocessing, linear algebra, batching). It’s the foundation for many ML libraries.\n",
    "\n",
    "### Example: BMI (vectorized)\n"
   ]
  },
  {
   "cell_type": "code",
   "execution_count": 6,
   "id": "1f6744a2",
   "metadata": {},
   "outputs": [
    {
     "name": "stdout",
     "output_type": "stream",
     "text": [
      "BMI: [21.2244898  24.07407407 18.36547291]\n"
     ]
    }
   ],
   "source": [
    "import numpy as np\n",
    "heights = np.array([1.75, 1.80, 1.65])  # meters\n",
    "weights = np.array([65, 78, 50])       # kg\n",
    "bmi = weights / (heights ** 2)\n",
    "print(\"BMI:\", bmi)"
   ]
  },
  {
   "cell_type": "markdown",
   "id": "b3cd38bb",
   "metadata": {},
   "source": [
    "### Normalization example\n"
   ]
  },
  {
   "cell_type": "code",
   "execution_count": 7,
   "id": "b58b66d3",
   "metadata": {},
   "outputs": [
    {
     "name": "stdout",
     "output_type": "stream",
     "text": [
      "Z-score normalized: [-1.2070197  -0.74278135 -0.27854301  0.64993368  1.57841037]\n"
     ]
    }
   ],
   "source": [
    "data = np.array([4.0, 5.0, 6.0, 8.0, 10.0])\n",
    "normalized_data = (data - np.mean(data)) / np.std(data)\n",
    "print(\"Z-score normalized:\", normalized_data)"
   ]
  },
  {
   "cell_type": "markdown",
   "id": "47fcc1a5",
   "metadata": {},
   "source": [
    "### Matrix multiplication (Linear Regression prediction)\n"
   ]
  },
  {
   "cell_type": "code",
   "execution_count": 8,
   "id": "8d3ee414",
   "metadata": {},
   "outputs": [
    {
     "name": "stdout",
     "output_type": "stream",
     "text": [
      "y_pred: [ 3.6  7.6 11.6]\n"
     ]
    }
   ],
   "source": [
    "X = np.array([[1, 2], [3, 4], [5, 6]])\n",
    "beta = np.array([0.5, 1.5])\n",
    "b = 0.1\n",
    "y_pred = np.dot(X, beta) + b\n",
    "print(\"y_pred:\", y_pred)"
   ]
  },
  {
   "cell_type": "markdown",
   "id": "86ff3c60",
   "metadata": {},
   "source": [
    "## <a id=\"key-numpy-concepts\"></a> Key NumPy Concepts\n",
    "\n",
    "### Arrays vs Lists\n"
   ]
  },
  {
   "cell_type": "code",
   "execution_count": 10,
   "id": "fe774716",
   "metadata": {},
   "outputs": [
    {
     "name": "stdout",
     "output_type": "stream",
     "text": [
      "List addition: [5, 7, 9]\n",
      "NumPy array addition: [5 7 9]\n"
     ]
    }
   ],
   "source": [
    "list_a = [1, 2, 3]\n",
    "list_b = [4, 5, 6]\n",
    "result_list = [a + b for a, b in zip(list_a, list_b)]\n",
    "print(\"List addition:\", result_list)\n",
    "\n",
    "array_a = np.array([1, 2, 3])\n",
    "array_b = np.array([4, 5, 6])\n",
    "result_np = array_a + array_b\n",
    "print(\"NumPy array addition:\", result_np)\n"
   ]
  },
  {
   "cell_type": "code",
   "execution_count": null,
   "id": "fe774716",
   "metadata": {},
   "outputs": [
    {
     "name": "stdout",
     "output_type": "stream",
     "text": [
      "From list: [1 2 3 4]\n",
      "Zeros (3x3):\n",
      " [[0. 0. 0.]\n",
      " [0. 0. 0.]\n",
      " [0. 0. 0.]]\n",
      "Ones (2x4):\n",
      " [[1. 1. 1. 1.]\n",
      " [1. 1. 1. 1.]]\n",
      "Random (2x3):\n",
      " [[0.81537056 0.30292484 0.84386861]\n",
      " [0.20608299 0.41484479 0.8097621 ]]\n",
      "a + b: [5 7 9]\n",
      "a * b: [ 4 10 18]\n",
      "Broadcasted A + B:\n",
      " [[2 4 6]\n",
      " [5 7 9]]\n",
      "Reshaped (2x3):\n",
      " [[1 2 3]\n",
      " [4 5 6]]\n",
      "Flattened: [1 2 3 4 5 6]\n"
     ]
    }
   ],
   "source": [
    "print(\"From list:\", np.array([1, 2, 3, 4]))\n",
    "print(\"Zeros (3x3):\\n\", np.zeros((3, 3)))\n",
    "print(\"Ones (2x4):\\n\", np.ones((2, 4)))\n",
    "\n",
    "rand_mat = np.random.random((2, 3))\n",
    "print(\"Random (2x3):\\n\", rand_mat)\n",
    "\n",
    "a = np.array([1, 2, 3])\n",
    "b = np.array([4, 5, 6])\n",
    "print(\"a + b:\", a + b)\n",
    "print(\"a * b:\", a * b)\n",
    "\n",
    "A = np.array([[1, 2, 3], [4, 5, 6]])\n",
    "B = np.array([1, 2, 3])\n",
    "print(\"Broadcasted A + B:\\n\", A + B)\n",
    "\n",
    "c = np.array([1, 2, 3, 4, 5, 6])\n",
    "c_reshaped = c.reshape(2, 3)\n",
    "print(\"Reshaped (2x3):\\n\", c_reshaped)\n",
    "print(\"Flattened:\", c_reshaped.flatten())\n"
   ]
  },
  {
   "cell_type": "markdown",
   "id": "6a6dc89d",
   "metadata": {},
   "source": [
    "## <a id=\"hands-on-coding\"></a> Hands-On Coding\n",
    "\n",
    "### Creating and Manipulating Arrays\n"
   ]
  },
  {
   "cell_type": "code",
   "execution_count": null,
   "id": "6a6dc89d",
   "metadata": {},
   "outputs": [
    {
     "name": "stdout",
     "output_type": "stream",
     "text": [
      "1D: [10 20 30 40]\n",
      "2D:\n",
      " [[1 2 3]\n",
      " [4 5 6]]\n",
      "1D + 5: [15 25 35 45]\n",
      "Random (3x3):\n",
      " [[0.01419036 0.12955174 0.60550883]\n",
      " [0.17418148 0.38836731 0.19303837]\n",
      " [0.44614023 0.41967222 0.13276668]]\n",
      "Scaled (*100):\n",
      " [[ 1.41903643 12.95517393 60.55088336]\n",
      " [17.41814812 38.83673057 19.30383715]\n",
      " [44.61402337 41.96722167 13.2766684 ]]\n",
      "Reshaped (2x3):\n",
      " [[1 2 3]\n",
      " [4 5 6]]\n",
      "Sliced (first 2 rows/cols):\n",
      " [[1 2]\n",
      " [4 5]]\n"
     ]
    }
   ],
   "source": [
    "import numpy as np\n",
    "array_1d = np.array([10, 20, 30, 40])\n",
    "print(\"1D:\", array_1d)\n",
    "\n",
    "array_2d = np.array([[1, 2, 3], [4, 5, 6]])\n",
    "print(\"2D:\\n\", array_2d)\n",
    "\n",
    "array_sum = array_1d + 5\n",
    "print(\"1D + 5:\", array_sum)\n",
    "\n",
    "random_matrix = np.random.random((3, 3))\n",
    "print(\"Random (3x3):\\n\", random_matrix)\n",
    "random_matrix_scaled = random_matrix * 100\n",
    "print(\"Scaled (*100):\\n\", random_matrix_scaled)\n",
    "\n",
    "reshaped_array = np.array([1, 2, 3, 4, 5, 6]).reshape(2, 3)\n",
    "print(\"Reshaped (2x3):\\n\", reshaped_array)\n",
    "\n",
    "sliced_array = reshaped_array[:2, :2]\n",
    "print(\"Sliced (first 2 rows/cols):\\n\", sliced_array)"
   ]
  },
  {
   "cell_type": "markdown",
   "id": "15479948",
   "metadata": {},
   "source": [
    "## <a id=\"mini-challenge\"></a> Mini Challenge\n",
    "\n",
    "Write a function that takes an array of any shape and returns a min-max normalized version (values in [0, 1]). Then test it with a random array. Finally, explain why normalization is critical in ML preprocessing.\n"
   ]
  },
  {
   "cell_type": "code",
   "execution_count": null,
   "id": "15479948",
   "metadata": {},
   "outputs": [
    {
     "name": "stdout",
     "output_type": "stream",
     "text": [
      "Original:\n",
      " [[ 0.49671415 -0.1382643   0.64768854  1.52302986]\n",
      " [-0.23415337 -0.23413696  1.57921282  0.76743473]\n",
      " [-0.46947439  0.54256004 -0.46341769 -0.46572975]]\n",
      "Min-max normalized (global):\n",
      " [[0.4716135  0.16166943 0.54530673 0.97257612]\n",
      " [0.1148643  0.11487231 1.         0.60375694]\n",
      " [0.         0.49399168 0.00295638 0.00182782]]\n",
      "Min-max normalized (per-row):\n",
      " [[3.82219158e-01 0.00000000e+00 4.73096733e-01 1.00000000e+00]\n",
      " [0.00000000e+00 9.05375552e-06 1.00000000e+00 5.52336373e-01]\n",
      " [0.00000000e+00 1.00000000e+00 5.98467102e-03 3.70010373e-03]]\n"
     ]
    }
   ],
   "source": [
    "import numpy as np\n",
    "\n",
    "def min_max_normalize(x: np.ndarray, axis=None, keepdims=False):\n",
    "    x = np.asarray(x)\n",
    "    x_min = np.min(x, axis=axis, keepdims=True)\n",
    "    x_max = np.max(x, axis=axis, keepdims=True)\n",
    "    denom = x_max - x_min\n",
    "    # Avoid division by zero for constant arrays\n",
    "    denom = np.where(denom == 0, 1, denom)\n",
    "    normalized = (x - x_min) / denom\n",
    "    if not keepdims and axis is not None:\n",
    "        # Squeeze reduced dims if requested\n",
    "        normalized = np.squeeze(normalized, axis=axis)\n",
    "    return normalized\n",
    "\n",
    "# Test with random array\n",
    "np.random.seed(42)\n",
    "test = np.random.randn(3, 4)\n",
    "print(\"Original:\\n\", test)\n",
    "print(\"Min-max normalized (global):\\n\", min_max_normalize(test))\n",
    "print(\"Min-max normalized (per-row):\\n\", min_max_normalize(test, axis=1, keepdims=True))"
   ]
  },
  {
   "cell_type": "markdown",
   "id": "8762f3b7",
   "metadata": {},
   "source": [
    "> Why normalization is critical in ML preprocessing:\n",
    ">\n",
    "> - Stabilizes and speeds up training by keeping features on similar scales (important for gradient descent).\n",
    "> - Prevents features with large scales from dominating distance-based models (kNN, clustering) and regularization.\n",
    "> - Improves numeric stability for matrix operations.\n",
    "> - Consistent scaling is essential for fair model comparison and reproducibility.\n"
   ]
  }
 ],
 "metadata": {
  "kernelspec": {
   "display_name": "machinelearning (3.12.3)",
   "language": "python",
   "name": "python3"
  },
  "language_info": {
   "codemirror_mode": {
    "name": "ipython",
    "version": 3
   },
   "file_extension": ".py",
   "mimetype": "text/x-python",
   "name": "python",
   "nbconvert_exporter": "python",
   "pygments_lexer": "ipython3",
   "version": "3.12.3"
  }
 },
 "nbformat": 4,
 "nbformat_minor": 5
}
