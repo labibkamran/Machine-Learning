{
 "cells": [
  {
   "cell_type": "markdown",
   "id": "e395bb0a",
   "metadata": {},
   "source": [
    "# Labib Kamran - 467183 - BSCS13D"
   ]
  },
  {
   "cell_type": "markdown",
   "id": "a94a61ab",
   "metadata": {},
   "source": [
    "# Lab 1: Introduction to Machine Learning\n",
    "\n"
   ]
  },
  {
   "cell_type": "code",
   "execution_count": 1,
   "id": "a0cfcf80",
   "metadata": {},
   "outputs": [
    {
     "name": "stdout",
     "output_type": "stream",
     "text": [
      "Hello, Machine Learning World!\n"
     ]
    }
   ],
   "source": [
    "# First Python cell\n",
    "print(\"Hello, Machine Learning World!\")"
   ]
  },
  {
   "cell_type": "code",
   "execution_count": 2,
   "id": "c25cee6d",
   "metadata": {},
   "outputs": [
    {
     "ename": "ModuleNotFoundError",
     "evalue": "No module named 'numpy'",
     "output_type": "error",
     "traceback": [
      "\u001b[31m---------------------------------------------------------------------------\u001b[39m",
      "\u001b[31mModuleNotFoundError\u001b[39m                       Traceback (most recent call last)",
      "\u001b[36mCell\u001b[39m\u001b[36m \u001b[39m\u001b[32mIn[2]\u001b[39m\u001b[32m, line 2\u001b[39m\n\u001b[32m      1\u001b[39m \u001b[38;5;66;03m# Example: read/write CSV via pandas when in Colab\u001b[39;00m\n\u001b[32m----> \u001b[39m\u001b[32m2\u001b[39m \u001b[38;5;28;01mimport\u001b[39;00m\u001b[38;5;250m \u001b[39m\u001b[34;01mnumpy\u001b[39;00m\u001b[38;5;250m \u001b[39m\u001b[38;5;28;01mas\u001b[39;00m\u001b[38;5;250m \u001b[39m\u001b[34;01mnp\u001b[39;00m\n\u001b[32m      4\u001b[39m \u001b[38;5;28;01mtry\u001b[39;00m:\n\u001b[32m      5\u001b[39m     \u001b[38;5;28;01mimport\u001b[39;00m\u001b[38;5;250m \u001b[39m\u001b[34;01mpandas\u001b[39;00m\u001b[38;5;250m \u001b[39m\u001b[38;5;28;01mas\u001b[39;00m\u001b[38;5;250m \u001b[39m\u001b[34;01mpd\u001b[39;00m\n",
      "\u001b[31mModuleNotFoundError\u001b[39m: No module named 'numpy'"
     ]
    }
   ],
   "source": [
    "# Example: read/write CSV via pandas when in Colab\n",
    "import numpy as np\n",
    "\n",
    "try:\n",
    "    import pandas as pd\n",
    "except ImportError:\n",
    "    pd = None\n",
    "    print(\"pandas not installed; skipping CSV demo.\")\n",
    "\n",
    "if IN_COLAB and pd is not None:\n",
    "    # Create a small DataFrame and save to Drive\n",
    "    df = pd.DataFrame({\"a\": [1, 2, 3], \"b\": [4, 5, 6]})\n",
    "    out_path = \"/content/drive/MyDrive/datasets/output_data.csv\"\n",
    "    try:\n",
    "        df.to_csv(out_path, index=False)\n",
    "        print(f\"Saved to {out_path}\")\n",
    "        # Read it back\n",
    "        df2 = pd.read_csv(out_path)\n",
    "        print(\"Loaded from Drive:\\n\", df2.head())\n",
    "    except Exception as e:\n",
    "        print(\"Drive path may not exist. Create MyDrive/datasets/ folder first.\")\n",
    "        print(\"Error:\", e)\n",
    "else:\n",
    "    print(\"Not in Colab with pandas; skipping Drive CSV example.\")"
   ]
  },
  {
   "cell_type": "markdown",
   "id": "87d9ef05",
   "metadata": {},
   "source": [
    "## <a id=\"why-numpy\"></a> Why NumPy?\n",
    "\n",
    "NumPy provides fast, vectorized array operations essential for ML workflows (preprocessing, linear algebra, batching). It’s the foundation for many ML libraries.\n",
    "\n",
    "### Example: BMI (vectorized)\n"
   ]
  },
  {
   "cell_type": "code",
   "execution_count": null,
   "id": "1f6744a2",
   "metadata": {},
   "outputs": [],
   "source": [
    "import numpy as np\n",
    "heights = np.array([1.75, 1.80, 1.65])  # meters\n",
    "weights = np.array([65, 78, 50])       # kg\n",
    "bmi = weights / (heights ** 2)\n",
    "print(\"BMI:\", bmi)"
   ]
  },
  {
   "cell_type": "markdown",
   "id": "b3cd38bb",
   "metadata": {},
   "source": [
    "### Normalization example\n"
   ]
  },
  {
   "cell_type": "code",
   "execution_count": null,
   "id": "b58b66d3",
   "metadata": {},
   "outputs": [],
   "source": [
    "data = np.array([4.0, 5.0, 6.0, 8.0, 10.0])\n",
    "normalized_data = (data - np.mean(data)) / np.std(data)\n",
    "print(\"Z-score normalized:\", normalized_data)"
   ]
  },
  {
   "cell_type": "markdown",
   "id": "47fcc1a5",
   "metadata": {},
   "source": [
    "### Matrix multiplication (Linear Regression prediction)\n"
   ]
  },
  {
   "cell_type": "code",
   "execution_count": null,
   "id": "8d3ee414",
   "metadata": {},
   "outputs": [],
   "source": [
    "X = np.array([[1, 2], [3, 4], [5, 6]])\n",
    "beta = np.array([0.5, 1.5])\n",
    "b = 0.1\n",
    "y_pred = np.dot(X, beta) + b\n",
    "print(\"y_pred:\", y_pred)"
   ]
  },
  {
   "cell_type": "markdown",
   "id": "0f3f9e88",
   "metadata": {},
   "source": [
    "## <a id=\"key-numpy-concepts\"></a> Key NumPy Concepts\n",
    "\n",
    "### Arrays vs Lists\n"
   ]
  },
  {
   "cell_type": "code",
   "execution_count": null,
   "id": "86ff3c60",
   "metadata": {},
   "outputs": [],
   "source": [
    "# Arrays vs Lists\n",
    "# Element-wise sum with Python lists requires iteration\n",
    "list_a = [1, 2, 3]\n",
    "list_b = [4, 5, 6]\n",
    "result_list = [a + b for a, b in zip(list_a, list_b)]\n",
    "print(\"List addition:\", result_list)\n",
    "\n",
    "# With NumPy, operations are vectorized\n",
    "import numpy as np\n",
    "array_a = np.array([1, 2, 3])\n",
    "array_b = np.array([4, 5, 6])\n",
    "result_np = array_a + array_b\n",
    "print(\"NumPy array addition:\", result_np)"
   ]
  },
  {
   "cell_type": "code",
   "execution_count": null,
   "id": "fe774716",
   "metadata": {},
   "outputs": [],
   "source": [
    "# Creating NumPy arrays\n",
    "print(\"From list:\", np.array([1, 2, 3, 4]))\n",
    "print(\"Zeros (3x3):\\n\", np.zeros((3, 3)))\n",
    "print(\"Ones (2x4):\\n\", np.ones((2, 4)))\n",
    "\n",
    "# Random values (2x3) between 0 and 1\n",
    "rand_mat = np.random.random((2, 3))\n",
    "print(\"Random (2x3):\\n\", rand_mat)\n",
    "\n",
    "# Element-wise operations\n",
    "a = np.array([1, 2, 3])\n",
    "b = np.array([4, 5, 6])\n",
    "print(\"a + b:\", a + b)\n",
    "print(\"a * b:\", a * b)\n",
    "\n",
    "# Broadcasting example\n",
    "A = np.array([[1, 2, 3], [4, 5, 6]])\n",
    "B = np.array([1, 2, 3])\n",
    "print(\"Broadcasted A + B:\\n\", A + B)\n",
    "\n",
    "# Reshape and flatten\n",
    "c = np.array([1, 2, 3, 4, 5, 6])\n",
    "c_reshaped = c.reshape(2, 3)\n",
    "print(\"Reshaped (2x3):\\n\", c_reshaped)\n",
    "print(\"Flattened:\", c_reshaped.flatten())"
   ]
  },
  {
   "cell_type": "markdown",
   "id": "7b5acae9",
   "metadata": {},
   "source": [
    "## <a id=\"hands-on-coding\"></a> Hands-On Coding\n",
    "\n",
    "### Creating and Manipulating Arrays\n"
   ]
  },
  {
   "cell_type": "code",
   "execution_count": null,
   "id": "6a6dc89d",
   "metadata": {},
   "outputs": [],
   "source": [
    "# 1D and 2D arrays\n",
    "import numpy as np\n",
    "array_1d = np.array([10, 20, 30, 40])\n",
    "print(\"1D:\", array_1d)\n",
    "\n",
    "array_2d = np.array([[1, 2, 3], [4, 5, 6]])\n",
    "print(\"2D:\\n\", array_2d)\n",
    "\n",
    "# Basic operations\n",
    "array_sum = array_1d + 5\n",
    "print(\"1D + 5:\", array_sum)\n",
    "\n",
    "# Random matrix and scaling\n",
    "random_matrix = np.random.random((3, 3))\n",
    "print(\"Random (3x3):\\n\", random_matrix)\n",
    "random_matrix_scaled = random_matrix * 100\n",
    "print(\"Scaled (*100):\\n\", random_matrix_scaled)\n",
    "\n",
    "# Reshape and slicing\n",
    "reshaped_array = np.array([1, 2, 3, 4, 5, 6]).reshape(2, 3)\n",
    "print(\"Reshaped (2x3):\\n\", reshaped_array)\n",
    "\n",
    "sliced_array = reshaped_array[:2, :2]\n",
    "print(\"Sliced (first 2 rows/cols):\\n\", sliced_array)"
   ]
  },
  {
   "cell_type": "markdown",
   "id": "eb50f10d",
   "metadata": {},
   "source": [
    "## <a id=\"mini-challenge\"></a> Mini Challenge\n",
    "\n",
    "Write a function that takes an array of any shape and returns a min-max normalized version (values in [0, 1]). Then test it with a random array. Finally, explain why normalization is critical in ML preprocessing.\n"
   ]
  },
  {
   "cell_type": "code",
   "execution_count": null,
   "id": "15479948",
   "metadata": {},
   "outputs": [],
   "source": [
    "import numpy as np\n",
    "\n",
    "def min_max_normalize(x: np.ndarray, axis=None, keepdims=False):\n",
    "    \"\"\"\n",
    "    Min-max normalize the array to [0, 1].\n",
    "    - axis=None normalizes across the whole array (default).\n",
    "    - axis can be an int/tuple to normalize along axes.\n",
    "    - keepdims keeps reduced dimensions if True.\n",
    "    Handles constant arrays by returning zeros.\n",
    "    \"\"\"\n",
    "    x = np.asarray(x)\n",
    "    x_min = np.min(x, axis=axis, keepdims=True)\n",
    "    x_max = np.max(x, axis=axis, keepdims=True)\n",
    "    denom = x_max - x_min\n",
    "    # Avoid division by zero for constant arrays\n",
    "    denom = np.where(denom == 0, 1, denom)\n",
    "    normalized = (x - x_min) / denom\n",
    "    if not keepdims and axis is not None:\n",
    "        # Squeeze reduced dims if requested\n",
    "        normalized = np.squeeze(normalized, axis=axis)\n",
    "    return normalized\n",
    "\n",
    "# Test with random array\n",
    "np.random.seed(42)\n",
    "test = np.random.randn(3, 4)\n",
    "print(\"Original:\\n\", test)\n",
    "print(\"Min-max normalized (global):\\n\", min_max_normalize(test))\n",
    "print(\"Min-max normalized (per-row):\\n\", min_max_normalize(test, axis=1, keepdims=True))"
   ]
  },
  {
   "cell_type": "markdown",
   "id": "8762f3b7",
   "metadata": {},
   "source": [
    "> Why normalization is critical in ML preprocessing:\n",
    ">\n",
    "> - Stabilizes and speeds up training by keeping features on similar scales (important for gradient descent).\n",
    "> - Prevents features with large scales from dominating distance-based models (kNN, clustering) and regularization.\n",
    "> - Improves numeric stability for matrix operations.\n",
    "> - Consistent scaling is essential for fair model comparison and reproducibility.\n"
   ]
  }
 ],
 "metadata": {
  "kernelspec": {
   "display_name": "machinelearning (3.12.3)",
   "language": "python",
   "name": "python3"
  },
  "language_info": {
   "name": "python",
   "version": "3.12.3"
  }
 },
 "nbformat": 4,
 "nbformat_minor": 5
}
