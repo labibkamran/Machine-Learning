{
 "cells": [
  {
   "cell_type": "markdown",
   "id": "b8e098a5",
   "metadata": {},
   "source": [
    "# Labib Kamran - 467183 - BSCS13D"
   ]
  },
  {
   "cell_type": "markdown",
   "id": "0e8e0414",
   "metadata": {},
   "source": [
    "# Lab 2: Introduction to Machine Learning\n",
    "\n"
   ]
  }
 ],
 "metadata": {
  "language_info": {
   "name": "python"
  }
 },
 "nbformat": 4,
 "nbformat_minor": 5
}
